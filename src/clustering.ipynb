{
 "cells": [
  {
   "cell_type": "code",
   "execution_count": 26,
   "metadata": {},
   "outputs": [],
   "source": [
    "import pandas as pd\n",
    "from helpers.read_data import get_player_dataset\n",
    "\n",
    "player_dataset = pd.read_csv(\"./sources/Fifa_23_Players_Data.csv\", usecols=[\n",
    "    \"Best Position\",\n",
    "    \"Height(in cm)\",\n",
    "    \"Pace Total\",\n",
    "    \"Shooting Total\",\n",
    "    \"Passing Total\",\n",
    "    \"Dribbling Total\",\n",
    "    \"Defending Total\",\n",
    "    \"Physicality Total\",\n",
    "    \"Crossing\",\n",
    "    \"Finishing\",\n",
    "    \"Heading Accuracy\",\n",
    "    \"Short Passing\",\n",
    "    \"Volleys\",\n",
    "    \"Dribbling\",\n",
    "    \"Curve\",\n",
    "    \"Freekick Accuracy\",\n",
    "    \"Long Passing\",\n",
    "    \"Ball Control\",\n",
    "    \"Acceleration\",\n",
    "    \"Sprint Speed\",\n",
    "    \"Agility\",\n",
    "    \"Reactions\",\n",
    "    \"Balance\",\n",
    "    \"Shot Power\",\n",
    "    \"Jumping\",\n",
    "    \"Stamina\",\n",
    "    \"Strength\",\n",
    "    \"Long Shots\",\n",
    "    \"Aggression\",\n",
    "    \"Interceptions\",\n",
    "    \"Positioning\",\n",
    "    \"Vision\",\n",
    "    \"Penalties\",\n",
    "    \"Composure\",\n",
    "    \"Marking\",\n",
    "    \"Standing Tackle\",\n",
    "    \"Sliding Tackle\",\n",
    "    \"Goalkeeper Diving\",\n",
    "    \"Goalkeeper Handling\",\n",
    "    \"Goalkeeper Kicking\",\n",
    "    \"Goalkeeper Positioning\",\n",
    "    \"Goalkeeper Reflexes\",\n",
    "])\n"
   ]
  },
  {
   "cell_type": "code",
   "execution_count": 27,
   "metadata": {},
   "outputs": [
    {
     "data": {
      "text/html": [
       "<div>\n",
       "<style scoped>\n",
       "    .dataframe tbody tr th:only-of-type {\n",
       "        vertical-align: middle;\n",
       "    }\n",
       "\n",
       "    .dataframe tbody tr th {\n",
       "        vertical-align: top;\n",
       "    }\n",
       "\n",
       "    .dataframe thead th {\n",
       "        text-align: right;\n",
       "    }\n",
       "</style>\n",
       "<table border=\"1\" class=\"dataframe\">\n",
       "  <thead>\n",
       "    <tr style=\"text-align: right;\">\n",
       "      <th></th>\n",
       "      <th>Best Position</th>\n",
       "      <th>Height(in cm)</th>\n",
       "      <th>Pace Total</th>\n",
       "      <th>Shooting Total</th>\n",
       "      <th>Passing Total</th>\n",
       "      <th>Dribbling Total</th>\n",
       "      <th>Defending Total</th>\n",
       "      <th>Physicality Total</th>\n",
       "      <th>Crossing</th>\n",
       "      <th>Finishing</th>\n",
       "      <th>...</th>\n",
       "      <th>Penalties</th>\n",
       "      <th>Composure</th>\n",
       "      <th>Marking</th>\n",
       "      <th>Standing Tackle</th>\n",
       "      <th>Sliding Tackle</th>\n",
       "      <th>Goalkeeper Diving</th>\n",
       "      <th>Goalkeeper Handling</th>\n",
       "      <th>Goalkeeper Kicking</th>\n",
       "      <th>Goalkeeper Positioning</th>\n",
       "      <th>Goalkeeper Reflexes</th>\n",
       "    </tr>\n",
       "  </thead>\n",
       "  <tbody>\n",
       "    <tr>\n",
       "      <th>0</th>\n",
       "      <td>CAM</td>\n",
       "      <td>169</td>\n",
       "      <td>81</td>\n",
       "      <td>89</td>\n",
       "      <td>90</td>\n",
       "      <td>94</td>\n",
       "      <td>34</td>\n",
       "      <td>64</td>\n",
       "      <td>84</td>\n",
       "      <td>90</td>\n",
       "      <td>...</td>\n",
       "      <td>75</td>\n",
       "      <td>96</td>\n",
       "      <td>20</td>\n",
       "      <td>35</td>\n",
       "      <td>24</td>\n",
       "      <td>6</td>\n",
       "      <td>11</td>\n",
       "      <td>15</td>\n",
       "      <td>14</td>\n",
       "      <td>8</td>\n",
       "    </tr>\n",
       "    <tr>\n",
       "      <th>1</th>\n",
       "      <td>CF</td>\n",
       "      <td>185</td>\n",
       "      <td>80</td>\n",
       "      <td>88</td>\n",
       "      <td>83</td>\n",
       "      <td>87</td>\n",
       "      <td>39</td>\n",
       "      <td>78</td>\n",
       "      <td>75</td>\n",
       "      <td>92</td>\n",
       "      <td>...</td>\n",
       "      <td>84</td>\n",
       "      <td>90</td>\n",
       "      <td>43</td>\n",
       "      <td>24</td>\n",
       "      <td>18</td>\n",
       "      <td>13</td>\n",
       "      <td>11</td>\n",
       "      <td>5</td>\n",
       "      <td>5</td>\n",
       "      <td>7</td>\n",
       "    </tr>\n",
       "    <tr>\n",
       "      <th>2</th>\n",
       "      <td>ST</td>\n",
       "      <td>185</td>\n",
       "      <td>75</td>\n",
       "      <td>91</td>\n",
       "      <td>79</td>\n",
       "      <td>86</td>\n",
       "      <td>44</td>\n",
       "      <td>83</td>\n",
       "      <td>71</td>\n",
       "      <td>94</td>\n",
       "      <td>...</td>\n",
       "      <td>90</td>\n",
       "      <td>88</td>\n",
       "      <td>35</td>\n",
       "      <td>42</td>\n",
       "      <td>19</td>\n",
       "      <td>15</td>\n",
       "      <td>6</td>\n",
       "      <td>12</td>\n",
       "      <td>8</td>\n",
       "      <td>10</td>\n",
       "    </tr>\n",
       "    <tr>\n",
       "      <th>3</th>\n",
       "      <td>CM</td>\n",
       "      <td>181</td>\n",
       "      <td>74</td>\n",
       "      <td>88</td>\n",
       "      <td>93</td>\n",
       "      <td>87</td>\n",
       "      <td>64</td>\n",
       "      <td>77</td>\n",
       "      <td>94</td>\n",
       "      <td>85</td>\n",
       "      <td>...</td>\n",
       "      <td>83</td>\n",
       "      <td>89</td>\n",
       "      <td>68</td>\n",
       "      <td>65</td>\n",
       "      <td>53</td>\n",
       "      <td>15</td>\n",
       "      <td>13</td>\n",
       "      <td>5</td>\n",
       "      <td>10</td>\n",
       "      <td>13</td>\n",
       "    </tr>\n",
       "    <tr>\n",
       "      <th>4</th>\n",
       "      <td>ST</td>\n",
       "      <td>182</td>\n",
       "      <td>97</td>\n",
       "      <td>89</td>\n",
       "      <td>80</td>\n",
       "      <td>92</td>\n",
       "      <td>36</td>\n",
       "      <td>76</td>\n",
       "      <td>78</td>\n",
       "      <td>93</td>\n",
       "      <td>...</td>\n",
       "      <td>80</td>\n",
       "      <td>88</td>\n",
       "      <td>26</td>\n",
       "      <td>34</td>\n",
       "      <td>32</td>\n",
       "      <td>13</td>\n",
       "      <td>5</td>\n",
       "      <td>7</td>\n",
       "      <td>11</td>\n",
       "      <td>6</td>\n",
       "    </tr>\n",
       "  </tbody>\n",
       "</table>\n",
       "<p>5 rows × 42 columns</p>\n",
       "</div>"
      ],
      "text/plain": [
       "  Best Position  Height(in cm)  Pace Total  Shooting Total  Passing Total  \\\n",
       "0           CAM            169          81              89             90   \n",
       "1            CF            185          80              88             83   \n",
       "2            ST            185          75              91             79   \n",
       "3            CM            181          74              88             93   \n",
       "4            ST            182          97              89             80   \n",
       "\n",
       "   Dribbling Total  Defending Total  Physicality Total  Crossing  Finishing  \\\n",
       "0               94               34                 64        84         90   \n",
       "1               87               39                 78        75         92   \n",
       "2               86               44                 83        71         94   \n",
       "3               87               64                 77        94         85   \n",
       "4               92               36                 76        78         93   \n",
       "\n",
       "   ...  Penalties  Composure  Marking  Standing Tackle  Sliding Tackle  \\\n",
       "0  ...         75         96       20               35              24   \n",
       "1  ...         84         90       43               24              18   \n",
       "2  ...         90         88       35               42              19   \n",
       "3  ...         83         89       68               65              53   \n",
       "4  ...         80         88       26               34              32   \n",
       "\n",
       "   Goalkeeper Diving  Goalkeeper Handling  Goalkeeper Kicking  \\\n",
       "0                  6                   11                  15   \n",
       "1                 13                   11                   5   \n",
       "2                 15                    6                  12   \n",
       "3                 15                   13                   5   \n",
       "4                 13                    5                   7   \n",
       "\n",
       "   Goalkeeper Positioning  Goalkeeper Reflexes  \n",
       "0                      14                    8  \n",
       "1                       5                    7  \n",
       "2                       8                   10  \n",
       "3                      10                   13  \n",
       "4                      11                    6  \n",
       "\n",
       "[5 rows x 42 columns]"
      ]
     },
     "execution_count": 27,
     "metadata": {},
     "output_type": "execute_result"
    }
   ],
   "source": [
    "player_dataset.head()"
   ]
  },
  {
   "cell_type": "code",
   "execution_count": 37,
   "metadata": {},
   "outputs": [
    {
     "data": {
      "text/plain": [
       "Best Position\n",
       "CB     0.197675\n",
       "ST     0.138629\n",
       "CAM    0.123797\n",
       "GK     0.112102\n",
       "RM     0.077729\n",
       "CDM    0.076018\n",
       "CM     0.059902\n",
       "RB     0.049490\n",
       "LB     0.046424\n",
       "LM     0.041931\n",
       "RWB    0.022677\n",
       "LWB    0.021607\n",
       "RW     0.016473\n",
       "LW     0.011624\n",
       "CF     0.003922\n",
       "Name: count, dtype: float64"
      ]
     },
     "execution_count": 37,
     "metadata": {},
     "output_type": "execute_result"
    }
   ],
   "source": [
    "from sklearn.model_selection import StratifiedShuffleSplit\n",
    "\n",
    "split_data = StratifiedShuffleSplit(n_splits=1, train_size=0.8, test_size=0.2, random_state=42).split(player_dataset, player_dataset[\"Best Position\"])\n",
    "\n",
    "for train_index, test_index in split_data:\n",
    "\n",
    "    strat_train_set = player_dataset.iloc[train_index]\n",
    "    strat_test_set = player_dataset.iloc[test_index]\n",
    "\n",
    "strat_train_set[\"Best Position\"].value_counts() / len(strat_train_set)\n"
   ]
  },
  {
   "cell_type": "code",
   "execution_count": 38,
   "metadata": {},
   "outputs": [
    {
     "name": "stderr",
     "output_type": "stream",
     "text": [
      "C:\\Users\\HP\\AppData\\Local\\Temp\\ipykernel_25996\\565131957.py:1: SettingWithCopyWarning: \n",
      "A value is trying to be set on a copy of a slice from a DataFrame\n",
      "\n",
      "See the caveats in the documentation: https://pandas.pydata.org/pandas-docs/stable/user_guide/indexing.html#returning-a-view-versus-a-copy\n",
      "  strat_train_set.drop(\"Best Position\", axis=1, inplace=True)\n",
      "C:\\Users\\HP\\AppData\\Local\\Temp\\ipykernel_25996\\565131957.py:2: SettingWithCopyWarning: \n",
      "A value is trying to be set on a copy of a slice from a DataFrame\n",
      "\n",
      "See the caveats in the documentation: https://pandas.pydata.org/pandas-docs/stable/user_guide/indexing.html#returning-a-view-versus-a-copy\n",
      "  strat_test_set.drop(\"Best Position\", axis=1, inplace=True)\n"
     ]
    }
   ],
   "source": [
    "strat_train_set.drop(\"Best Position\", axis=1, inplace=True)\n",
    "strat_test_set.drop(\"Best Position\", axis=1, inplace=True)\n"
   ]
  },
  {
   "cell_type": "code",
   "execution_count": 84,
   "metadata": {},
   "outputs": [
    {
     "name": "stdout",
     "output_type": "stream",
     "text": [
      "Initialization complete\n",
      "Iteration 0, inertia 78963580.0.\n",
      "Iteration 1, inertia 48147845.65428703.\n",
      "Iteration 2, inertia 46912772.695584886.\n",
      "Iteration 3, inertia 46241174.69226535.\n",
      "Iteration 4, inertia 45889522.72459165.\n",
      "Iteration 5, inertia 45686188.78351872.\n",
      "Iteration 6, inertia 45579316.0318078.\n",
      "Iteration 7, inertia 45532202.34904853.\n",
      "Iteration 8, inertia 45507428.81250458.\n",
      "Iteration 9, inertia 45495502.81220398.\n",
      "Iteration 10, inertia 45491692.66442616.\n",
      "Iteration 11, inertia 45490745.6517627.\n",
      "Iteration 12, inertia 45490213.68718264.\n",
      "Iteration 13, inertia 45490079.70740997.\n",
      "Converged at iteration 13: center shift 0.002948139427087633 within tolerance 0.025526600961989887.\n"
     ]
    }
   ],
   "source": [
    "from sklearn.cluster import KMeans\n",
    "\n",
    "model = KMeans(n_clusters=4, random_state=42, n_init=\"auto\", init=\"k-means++\", max_iter=100, verbose=1)\n",
    "points = model.fit_transform(strat_train_set)"
   ]
  },
  {
   "cell_type": "code",
   "execution_count": 81,
   "metadata": {},
   "outputs": [
    {
     "data": {
      "text/plain": [
       "<matplotlib.collections.PathCollection at 0x1f2e698a110>"
      ]
     },
     "execution_count": 81,
     "metadata": {},
     "output_type": "execute_result"
    },
    {
     "data": {
      "image/png": "[encoded data removed]",
      "text/plain": [
       "<Figure size 640x480 with 1 Axes>"
      ]
     },
     "metadata": {},
     "output_type": "display_data"
    }
   ],
   "source": [
    "import matplotlib.pyplot as plt\n",
    "\n",
    "centroids = model.cluster_centers_\n",
    "plt.scatter(points[:, 0], points[:, 1], c=model.labels_, cmap=\"rainbow\")\n",
    "plt.scatter(centroids[:, 1], centroids[:, 2], marker=\"D\", s=50)\n"
   ]
  },
  {
   "cell_type": "code",
   "execution_count": 85,
   "metadata": {},
   "outputs": [
    {
     "data": {
      "text/plain": [
       "array([0, 0, 2, ..., 0, 0, 2])"
      ]
     },
     "execution_count": 85,
     "metadata": {},
     "output_type": "execute_result"
    }
   ],
   "source": [
    "model.labels_"
   ]
  },
  {
   "cell_type": "code",
   "execution_count": null,
   "metadata": {},
   "outputs": [],
   "source": []
  }
 ],
 "metadata": {
  "kernelspec": {
   "display_name": "venv",
   "language": "python",
   "name": "python3"
  },
  "language_info": {
   "codemirror_mode": {
    "name": "ipython",
    "version": 3
   },
   "file_extension": ".py",
   "mimetype": "text/x-python",
   "name": "python",
   "nbconvert_exporter": "python",
   "pygments_lexer": "ipython3",
   "version": "3.11.0"
  },
  "orig_nbformat": 4
 },
 "nbformat": 4,
 "nbformat_minor": 2
}
